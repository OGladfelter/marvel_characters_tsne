{
 "cells": [
  {
   "cell_type": "markdown",
   "metadata": {},
   "source": [
    "# Marvel Network Data\n",
    "\n",
    "## Author: Oliver Gladfelter\n",
    "\n",
    "### Date: Sep 10, 2020"
   ]
  },
  {
   "cell_type": "code",
   "execution_count": 1,
   "metadata": {},
   "outputs": [],
   "source": [
    "import lxml.html as lh\n",
    "import io\n",
    "import requests\n",
    "from bs4 import BeautifulSoup\n",
    "import pandas as pd\n",
    "import re\n",
    "import networkx as nx\n",
    "import matplotlib.pyplot as plt\n",
    "import seaborn as sns\n",
    "import re\n",
    "import requests"
   ]
  },
  {
   "cell_type": "code",
   "execution_count": 8,
   "metadata": {},
   "outputs": [],
   "source": [
    "data2 = pd.read_csv(\"marvel_data.csv\")\n",
    "del data2['Unnamed: 0']\n",
    "import ast\n",
    "data2['appearanceList'] = data2['appearanceList'].apply(ast.literal_eval)"
   ]
  },
  {
   "cell_type": "code",
   "execution_count": 9,
   "metadata": {},
   "outputs": [
    {
     "data": {
      "text/html": [
       "<div>\n",
       "<style scoped>\n",
       "    .dataframe tbody tr th:only-of-type {\n",
       "        vertical-align: middle;\n",
       "    }\n",
       "\n",
       "    .dataframe tbody tr th {\n",
       "        vertical-align: top;\n",
       "    }\n",
       "\n",
       "    .dataframe thead th {\n",
       "        text-align: right;\n",
       "    }\n",
       "</style>\n",
       "<table border=\"1\" class=\"dataframe\">\n",
       "  <thead>\n",
       "    <tr style=\"text-align: right;\">\n",
       "      <th></th>\n",
       "      <th>nameAndUniverse</th>\n",
       "      <th>centralityScore</th>\n",
       "      <th>url</th>\n",
       "      <th>appearances</th>\n",
       "      <th>appearanceList</th>\n",
       "    </tr>\n",
       "  </thead>\n",
       "  <tbody>\n",
       "    <tr>\n",
       "      <td>0</td>\n",
       "      <td>Steven Rogers (Earth-616)</td>\n",
       "      <td>0.772840</td>\n",
       "      <td>http://marvel.wikia.com/wiki/Steven_Rogers_(Ea...</td>\n",
       "      <td>3604</td>\n",
       "      <td>[All This and World War II, The Amazing Spider...</td>\n",
       "    </tr>\n",
       "    <tr>\n",
       "      <td>1</td>\n",
       "      <td>Peter Parker (Earth-616)</td>\n",
       "      <td>0.740318</td>\n",
       "      <td>http://marvel.wikia.com/wiki/Peter_Parker_(Ear...</td>\n",
       "      <td>4656</td>\n",
       "      <td>[After Midnight, Amazing Spider-Man: The Big T...</td>\n",
       "    </tr>\n",
       "  </tbody>\n",
       "</table>\n",
       "</div>"
      ],
      "text/plain": [
       "             nameAndUniverse  centralityScore  \\\n",
       "0  Steven Rogers (Earth-616)         0.772840   \n",
       "1   Peter Parker (Earth-616)         0.740318   \n",
       "\n",
       "                                                 url  appearances  \\\n",
       "0  http://marvel.wikia.com/wiki/Steven_Rogers_(Ea...         3604   \n",
       "1  http://marvel.wikia.com/wiki/Peter_Parker_(Ear...         4656   \n",
       "\n",
       "                                      appearanceList  \n",
       "0  [All This and World War II, The Amazing Spider...  \n",
       "1  [After Midnight, Amazing Spider-Man: The Big T...  "
      ]
     },
     "execution_count": 9,
     "metadata": {},
     "output_type": "execute_result"
    }
   ],
   "source": [
    "data2.head(2)"
   ]
  },
  {
   "cell_type": "markdown",
   "metadata": {},
   "source": [
    "## Use List Intersections to Get Number of Common Comic Book Appearances, Construct a New DataFrame"
   ]
  },
  {
   "cell_type": "code",
   "execution_count": 5,
   "metadata": {},
   "outputs": [],
   "source": [
    "name1 = []\n",
    "name2 = []\n",
    "numConnections = []\n",
    "\n",
    "for num in range(0,len(data2)):\n",
    "    #print(num)\n",
    "    # only find intersection for all characters we haven't *already* \n",
    "    for num2 in range(num,len(data2)):\n",
    "        if data2['nameAndUniverse'][num] == data2['nameAndUniverse'][num2]:\n",
    "            continue\n",
    "        name1.append(data2['nameAndUniverse'][num])\n",
    "        name2.append(data2['nameAndUniverse'][num2])\n",
    "        numConnections.append(len(set(data2['appearanceList'][num]).intersection(data2['appearanceList'][num2])))\n",
    "\n",
    "network = pd.DataFrame({'name1':name1,'name2':name2,'numConnections':numConnections})"
   ]
  },
  {
   "cell_type": "code",
   "execution_count": 116,
   "metadata": {},
   "outputs": [
    {
     "data": {
      "text/plain": [
       "8122465"
      ]
     },
     "execution_count": 116,
     "metadata": {},
     "output_type": "execute_result"
    }
   ],
   "source": [
    "len(network)"
   ]
  },
  {
   "cell_type": "code",
   "execution_count": 8,
   "metadata": {},
   "outputs": [],
   "source": [
    "network2 = network[network['numConnections'] != 0]\n",
    "network2 = network2.reset_index()\n",
    "del network2['index']"
   ]
  },
  {
   "cell_type": "code",
   "execution_count": 9,
   "metadata": {},
   "outputs": [
    {
     "data": {
      "text/plain": [
       "873005"
      ]
     },
     "execution_count": 9,
     "metadata": {},
     "output_type": "execute_result"
    }
   ],
   "source": [
    "len(network2)"
   ]
  },
  {
   "cell_type": "code",
   "execution_count": 10,
   "metadata": {},
   "outputs": [
    {
     "data": {
      "text/html": [
       "<div>\n",
       "<style scoped>\n",
       "    .dataframe tbody tr th:only-of-type {\n",
       "        vertical-align: middle;\n",
       "    }\n",
       "\n",
       "    .dataframe tbody tr th {\n",
       "        vertical-align: top;\n",
       "    }\n",
       "\n",
       "    .dataframe thead th {\n",
       "        text-align: right;\n",
       "    }\n",
       "</style>\n",
       "<table border=\"1\" class=\"dataframe\">\n",
       "  <thead>\n",
       "    <tr style=\"text-align: right;\">\n",
       "      <th></th>\n",
       "      <th>name1</th>\n",
       "      <th>name2</th>\n",
       "      <th>numConnections</th>\n",
       "    </tr>\n",
       "  </thead>\n",
       "  <tbody>\n",
       "    <tr>\n",
       "      <td>17154</td>\n",
       "      <td>Benjamin Grimm (Earth-616)</td>\n",
       "      <td>Jonathan Storm (Earth-616)</td>\n",
       "      <td>1748</td>\n",
       "    </tr>\n",
       "    <tr>\n",
       "      <td>17151</td>\n",
       "      <td>Benjamin Grimm (Earth-616)</td>\n",
       "      <td>Reed Richards (Earth-616)</td>\n",
       "      <td>1743</td>\n",
       "    </tr>\n",
       "    <tr>\n",
       "      <td>22373</td>\n",
       "      <td>Reed Richards (Earth-616)</td>\n",
       "      <td>Susan Storm (Earth-616)</td>\n",
       "      <td>1663</td>\n",
       "    </tr>\n",
       "    <tr>\n",
       "      <td>22364</td>\n",
       "      <td>Reed Richards (Earth-616)</td>\n",
       "      <td>Jonathan Storm (Earth-616)</td>\n",
       "      <td>1653</td>\n",
       "    </tr>\n",
       "    <tr>\n",
       "      <td>17163</td>\n",
       "      <td>Benjamin Grimm (Earth-616)</td>\n",
       "      <td>Susan Storm (Earth-616)</td>\n",
       "      <td>1596</td>\n",
       "    </tr>\n",
       "  </tbody>\n",
       "</table>\n",
       "</div>"
      ],
      "text/plain": [
       "                            name1                       name2  numConnections\n",
       "17154  Benjamin Grimm (Earth-616)  Jonathan Storm (Earth-616)            1748\n",
       "17151  Benjamin Grimm (Earth-616)   Reed Richards (Earth-616)            1743\n",
       "22373   Reed Richards (Earth-616)     Susan Storm (Earth-616)            1663\n",
       "22364   Reed Richards (Earth-616)  Jonathan Storm (Earth-616)            1653\n",
       "17163  Benjamin Grimm (Earth-616)     Susan Storm (Earth-616)            1596"
      ]
     },
     "execution_count": 10,
     "metadata": {},
     "output_type": "execute_result"
    }
   ],
   "source": [
    "network2.sort_values('numConnections',ascending=False).head()"
   ]
  },
  {
   "cell_type": "code",
   "execution_count": 11,
   "metadata": {},
   "outputs": [],
   "source": [
    "network2.to_csv(\"MarvelNumConnections.csv\")"
   ]
  },
  {
   "cell_type": "code",
   "execution_count": 14,
   "metadata": {},
   "outputs": [
    {
     "data": {
      "text/plain": [
       "4028"
      ]
     },
     "execution_count": 14,
     "metadata": {},
     "output_type": "execute_result"
    }
   ],
   "source": [
    "len(network['name1'].unique())"
   ]
  },
  {
   "cell_type": "markdown",
   "metadata": {},
   "source": [
    "## Use TSN-E to compute (x,y) coordinates for each character"
   ]
  },
  {
   "cell_type": "code",
   "execution_count": 19,
   "metadata": {},
   "outputs": [],
   "source": [
    "# convert MarvelNumConnections.csv into matrix\n",
    "network = network2.pivot_table(columns='name2', index='name1', values='numConnections').reset_index()\n",
    "\n",
    "# fill missing connections with 0 - there are no common appearances\n",
    "network = network.fillna(0)\n",
    "\n",
    "# check network shape\n",
    "print(network.shape)\n",
    "\n",
    "# save name1 column, then drop it from matrix since it's non-numeric and can't go into TSN-E algorithm\n",
    "characters = network[['name1']]\n",
    "network = network.drop(['name1'], axis=1)\n",
    "\n",
    "# TSNE stuff\n",
    "from sklearn.manifold import TSNE\n",
    "m = TSNE(learning_rate=50)\n",
    "\n",
    "tsne_features = m.fit_transform(network)\n",
    "\n",
    "# sanity check: each character should have one set of tsne_features values\n",
    "assert(len(tsne_features) == len(network))\n",
    "\n",
    "# for each character, apply their (x,y) coordinates\n",
    "characters['x'] = tsne_features[:,0]\n",
    "characters['y'] = tsne_features[:,1]"
   ]
  },
  {
   "cell_type": "markdown",
   "metadata": {},
   "source": [
    "## Viz Test"
   ]
  },
  {
   "cell_type": "code",
   "execution_count": 51,
   "metadata": {},
   "outputs": [
    {
     "data": {
      "image/png": "[encoded data removed]",
      "text/plain": [
       "<Figure size 432x288 with 1 Axes>"
      ]
     },
     "metadata": {
      "needs_background": "light"
     },
     "output_type": "display_data"
    }
   ],
   "source": [
    "sns.scatterplot(x=\"x\", y=\"y\", data=characters)\n",
    "plt.show()"
   ]
  },
  {
   "cell_type": "markdown",
   "metadata": {},
   "source": [
    "## Some final data preparation before exporting for D3"
   ]
  },
  {
   "cell_type": "code",
   "execution_count": 59,
   "metadata": {},
   "outputs": [],
   "source": [
    "def nameSimple(value):\n",
    "    return re.sub(\"\\(Earth-616\\)\",\"\",value)\n",
    "\n",
    "# remove earth-616 distinction from each name\n",
    "characters['name'] = characters['name1'].apply(nameSimple)\n",
    "del characters['name1']\n",
    "\n",
    "# doing the same for original data set, so we can merge\n",
    "data2['name'] = data2['nameAndUniverse'].apply(nameSimple)\n",
    "\n",
    "# merge so I can grab # of appearances\n",
    "data = characters.merge(data2)\n",
    "data = data[['x', 'y', 'name', 'appearances']]\n",
    "\n",
    "# sort\n",
    "data = data.sort_values('appearances', ascending=False)\n",
    "\n",
    "# save\n",
    "data.to_csv(\"Marvel_characters_with_coords.csv\", index=False)"
   ]
  },
  {
   "cell_type": "code",
   "execution_count": 81,
   "metadata": {},
   "outputs": [],
   "source": [
    "top100 = data[0:100]"
   ]
  },
  {
   "cell_type": "code",
   "execution_count": 82,
   "metadata": {},
   "outputs": [
    {
     "data": {
      "text/html": [
       "<div>\n",
       "<style scoped>\n",
       "    .dataframe tbody tr th:only-of-type {\n",
       "        vertical-align: middle;\n",
       "    }\n",
       "\n",
       "    .dataframe tbody tr th {\n",
       "        vertical-align: top;\n",
       "    }\n",
       "\n",
       "    .dataframe thead th {\n",
       "        text-align: right;\n",
       "    }\n",
       "</style>\n",
       "<table border=\"1\" class=\"dataframe\">\n",
       "  <thead>\n",
       "    <tr style=\"text-align: right;\">\n",
       "      <th></th>\n",
       "      <th>x</th>\n",
       "      <th>y</th>\n",
       "      <th>name</th>\n",
       "      <th>appearances</th>\n",
       "    </tr>\n",
       "  </thead>\n",
       "  <tbody>\n",
       "    <tr>\n",
       "      <td>2694</td>\n",
       "      <td>-64.827324</td>\n",
       "      <td>-21.116581</td>\n",
       "      <td>Peter Parker</td>\n",
       "      <td>4656</td>\n",
       "    </tr>\n",
       "    <tr>\n",
       "      <td>3233</td>\n",
       "      <td>-65.331268</td>\n",
       "      <td>-20.446026</td>\n",
       "      <td>Steven Rogers</td>\n",
       "      <td>3604</td>\n",
       "    </tr>\n",
       "    <tr>\n",
       "      <td>218</td>\n",
       "      <td>-65.125847</td>\n",
       "      <td>-20.428740</td>\n",
       "      <td>Anthony Stark</td>\n",
       "      <td>3304</td>\n",
       "    </tr>\n",
       "    <tr>\n",
       "      <td>1590</td>\n",
       "      <td>-68.842613</td>\n",
       "      <td>-17.908754</td>\n",
       "      <td>James Howlett</td>\n",
       "      <td>3153</td>\n",
       "    </tr>\n",
       "    <tr>\n",
       "      <td>3348</td>\n",
       "      <td>-64.594124</td>\n",
       "      <td>-20.097712</td>\n",
       "      <td>Thor Odinson</td>\n",
       "      <td>2478</td>\n",
       "    </tr>\n",
       "    <tr>\n",
       "      <td>...</td>\n",
       "      <td>...</td>\n",
       "      <td>...</td>\n",
       "      <td>...</td>\n",
       "      <td>...</td>\n",
       "    </tr>\n",
       "    <tr>\n",
       "      <td>407</td>\n",
       "      <td>-64.200737</td>\n",
       "      <td>-7.496722</td>\n",
       "      <td>Blackagar Boltagon</td>\n",
       "      <td>445</td>\n",
       "    </tr>\n",
       "    <tr>\n",
       "      <td>322</td>\n",
       "      <td>-58.556816</td>\n",
       "      <td>17.384659</td>\n",
       "      <td>Balder Odinson</td>\n",
       "      <td>439</td>\n",
       "    </tr>\n",
       "    <tr>\n",
       "      <td>281</td>\n",
       "      <td>-53.878456</td>\n",
       "      <td>4.685630</td>\n",
       "      <td>Arthur Douglas</td>\n",
       "      <td>434</td>\n",
       "    </tr>\n",
       "    <tr>\n",
       "      <td>412</td>\n",
       "      <td>47.869690</td>\n",
       "      <td>-9.766297</td>\n",
       "      <td>Blaine Colt</td>\n",
       "      <td>433</td>\n",
       "    </tr>\n",
       "    <tr>\n",
       "      <td>1748</td>\n",
       "      <td>-51.557507</td>\n",
       "      <td>-1.242923</td>\n",
       "      <td>Johnathon Blaze</td>\n",
       "      <td>428</td>\n",
       "    </tr>\n",
       "  </tbody>\n",
       "</table>\n",
       "<p>100 rows × 4 columns</p>\n",
       "</div>"
      ],
      "text/plain": [
       "              x          y                 name  appearances\n",
       "2694 -64.827324 -21.116581        Peter Parker          4656\n",
       "3233 -65.331268 -20.446026       Steven Rogers          3604\n",
       "218  -65.125847 -20.428740       Anthony Stark          3304\n",
       "1590 -68.842613 -17.908754       James Howlett          3153\n",
       "3348 -64.594124 -20.097712        Thor Odinson          2478\n",
       "...         ...        ...                  ...          ...\n",
       "407  -64.200737  -7.496722  Blackagar Boltagon           445\n",
       "322  -58.556816  17.384659      Balder Odinson           439\n",
       "281  -53.878456   4.685630      Arthur Douglas           434\n",
       "412   47.869690  -9.766297         Blaine Colt           433\n",
       "1748 -51.557507  -1.242923     Johnathon Blaze           428\n",
       "\n",
       "[100 rows x 4 columns]"
      ]
     },
     "execution_count": 82,
     "metadata": {},
     "output_type": "execute_result"
    }
   ],
   "source": [
    "top100"
   ]
  },
  {
   "cell_type": "code",
   "execution_count": 83,
   "metadata": {},
   "outputs": [
    {
     "data": {
      "image/png": "[encoded data removed]",
      "text/plain": [
       "<Figure size 432x288 with 1 Axes>"
      ]
     },
     "metadata": {
      "needs_background": "light"
     },
     "output_type": "display_data"
    }
   ],
   "source": [
    "sns.scatterplot(x=\"x\", y=\"y\", data=top100)\n",
    "plt.show()"
   ]
  },
  {
   "cell_type": "code",
   "execution_count": 86,
   "metadata": {},
   "outputs": [],
   "source": [
    "top100.to_csv(\"top100.csv\", index=False)"
   ]
  },
  {
   "cell_type": "markdown",
   "metadata": {},
   "source": [
    "## Grabbing some extra info: avatar picture"
   ]
  },
  {
   "cell_type": "code",
   "execution_count": 4,
   "metadata": {},
   "outputs": [],
   "source": [
    "data = pd.read_csv(\"Marvel_characters_with_coords.csv\")"
   ]
  },
  {
   "cell_type": "code",
   "execution_count": 11,
   "metadata": {},
   "outputs": [],
   "source": [
    "data = data.merge(data2)"
   ]
  },
  {
   "cell_type": "code",
   "execution_count": 13,
   "metadata": {},
   "outputs": [],
   "source": [
    "data = data[['x','y','name','appearances','url']]"
   ]
  },
  {
   "cell_type": "code",
   "execution_count": 14,
   "metadata": {},
   "outputs": [
    {
     "data": {
      "text/html": [
       "<div>\n",
       "<style scoped>\n",
       "    .dataframe tbody tr th:only-of-type {\n",
       "        vertical-align: middle;\n",
       "    }\n",
       "\n",
       "    .dataframe tbody tr th {\n",
       "        vertical-align: top;\n",
       "    }\n",
       "\n",
       "    .dataframe thead th {\n",
       "        text-align: right;\n",
       "    }\n",
       "</style>\n",
       "<table border=\"1\" class=\"dataframe\">\n",
       "  <thead>\n",
       "    <tr style=\"text-align: right;\">\n",
       "      <th></th>\n",
       "      <th>x</th>\n",
       "      <th>y</th>\n",
       "      <th>name</th>\n",
       "      <th>appearances</th>\n",
       "      <th>url</th>\n",
       "    </tr>\n",
       "  </thead>\n",
       "  <tbody>\n",
       "    <tr>\n",
       "      <td>0</td>\n",
       "      <td>-64.827324</td>\n",
       "      <td>-21.116581</td>\n",
       "      <td>Peter Parker</td>\n",
       "      <td>4656</td>\n",
       "      <td>http://marvel.wikia.com/wiki/Peter_Parker_(Ear...</td>\n",
       "    </tr>\n",
       "    <tr>\n",
       "      <td>1</td>\n",
       "      <td>-65.331270</td>\n",
       "      <td>-20.446026</td>\n",
       "      <td>Steven Rogers</td>\n",
       "      <td>3604</td>\n",
       "      <td>http://marvel.wikia.com/wiki/Steven_Rogers_(Ea...</td>\n",
       "    </tr>\n",
       "    <tr>\n",
       "      <td>2</td>\n",
       "      <td>-65.125850</td>\n",
       "      <td>-20.428740</td>\n",
       "      <td>Anthony Stark</td>\n",
       "      <td>3304</td>\n",
       "      <td>http://marvel.wikia.com/wiki/Anthony_Stark_(Ea...</td>\n",
       "    </tr>\n",
       "    <tr>\n",
       "      <td>3</td>\n",
       "      <td>-68.842610</td>\n",
       "      <td>-17.908754</td>\n",
       "      <td>James Howlett</td>\n",
       "      <td>3153</td>\n",
       "      <td>http://marvel.wikia.com/wiki/James_Howlett_(Ea...</td>\n",
       "    </tr>\n",
       "    <tr>\n",
       "      <td>4</td>\n",
       "      <td>-64.594124</td>\n",
       "      <td>-20.097712</td>\n",
       "      <td>Thor Odinson</td>\n",
       "      <td>2478</td>\n",
       "      <td>http://marvel.wikia.com/wiki/Thor_Odinson_(Ear...</td>\n",
       "    </tr>\n",
       "    <tr>\n",
       "      <td>...</td>\n",
       "      <td>...</td>\n",
       "      <td>...</td>\n",
       "      <td>...</td>\n",
       "      <td>...</td>\n",
       "      <td>...</td>\n",
       "    </tr>\n",
       "    <tr>\n",
       "      <td>3680</td>\n",
       "      <td>10.365304</td>\n",
       "      <td>0.216396</td>\n",
       "      <td>Markus Ettlinger</td>\n",
       "      <td>10</td>\n",
       "      <td>http://marvel.wikia.com/wiki/Markus_Ettlinger_...</td>\n",
       "    </tr>\n",
       "    <tr>\n",
       "      <td>3681</td>\n",
       "      <td>39.090958</td>\n",
       "      <td>-6.546464</td>\n",
       "      <td>Hodari</td>\n",
       "      <td>10</td>\n",
       "      <td>http://marvel.wikia.com/wiki/Hodari_(Earth-616)</td>\n",
       "    </tr>\n",
       "    <tr>\n",
       "      <td>3682</td>\n",
       "      <td>4.030025</td>\n",
       "      <td>-2.344448</td>\n",
       "      <td>Criti Noll</td>\n",
       "      <td>10</td>\n",
       "      <td>http://marvel.wikia.com/wiki/Criti_Noll_(Earth...</td>\n",
       "    </tr>\n",
       "    <tr>\n",
       "      <td>3683</td>\n",
       "      <td>12.692588</td>\n",
       "      <td>-1.161417</td>\n",
       "      <td>Kendra Louise Price</td>\n",
       "      <td>10</td>\n",
       "      <td>http://marvel.wikia.com/wiki/Kendra_Louise_Pri...</td>\n",
       "    </tr>\n",
       "    <tr>\n",
       "      <td>3684</td>\n",
       "      <td>50.716957</td>\n",
       "      <td>-30.597895</td>\n",
       "      <td>Chango (Santerians)</td>\n",
       "      <td>10</td>\n",
       "      <td>http://marvel.wikia.com/wiki/Chango_(Santerian...</td>\n",
       "    </tr>\n",
       "  </tbody>\n",
       "</table>\n",
       "<p>3685 rows × 5 columns</p>\n",
       "</div>"
      ],
      "text/plain": [
       "              x          y                  name  appearances  \\\n",
       "0    -64.827324 -21.116581         Peter Parker          4656   \n",
       "1    -65.331270 -20.446026        Steven Rogers          3604   \n",
       "2    -65.125850 -20.428740        Anthony Stark          3304   \n",
       "3    -68.842610 -17.908754        James Howlett          3153   \n",
       "4    -64.594124 -20.097712         Thor Odinson          2478   \n",
       "...         ...        ...                   ...          ...   \n",
       "3680  10.365304   0.216396     Markus Ettlinger            10   \n",
       "3681  39.090958  -6.546464               Hodari            10   \n",
       "3682   4.030025  -2.344448           Criti Noll            10   \n",
       "3683  12.692588  -1.161417  Kendra Louise Price            10   \n",
       "3684  50.716957 -30.597895  Chango (Santerians)            10   \n",
       "\n",
       "                                                    url  \n",
       "0     http://marvel.wikia.com/wiki/Peter_Parker_(Ear...  \n",
       "1     http://marvel.wikia.com/wiki/Steven_Rogers_(Ea...  \n",
       "2     http://marvel.wikia.com/wiki/Anthony_Stark_(Ea...  \n",
       "3     http://marvel.wikia.com/wiki/James_Howlett_(Ea...  \n",
       "4     http://marvel.wikia.com/wiki/Thor_Odinson_(Ear...  \n",
       "...                                                 ...  \n",
       "3680  http://marvel.wikia.com/wiki/Markus_Ettlinger_...  \n",
       "3681    http://marvel.wikia.com/wiki/Hodari_(Earth-616)  \n",
       "3682  http://marvel.wikia.com/wiki/Criti_Noll_(Earth...  \n",
       "3683  http://marvel.wikia.com/wiki/Kendra_Louise_Pri...  \n",
       "3684  http://marvel.wikia.com/wiki/Chango_(Santerian...  \n",
       "\n",
       "[3685 rows x 5 columns]"
      ]
     },
     "execution_count": 14,
     "metadata": {},
     "output_type": "execute_result"
    }
   ],
   "source": [
    "data"
   ]
  },
  {
   "cell_type": "code",
   "execution_count": 26,
   "metadata": {},
   "outputs": [],
   "source": [
    "data = data[data['appearances'] >= 75]"
   ]
  },
  {
   "cell_type": "code",
   "execution_count": 28,
   "metadata": {},
   "outputs": [],
   "source": [
    "data = data.reset_index()\n",
    "del data['index']"
   ]
  },
  {
   "cell_type": "code",
   "execution_count": 29,
   "metadata": {
    "scrolled": true
   },
   "outputs": [
    {
     "name": "stderr",
     "output_type": "stream",
     "text": [
      "C:\\Users\\oglad\\AppData\\Local\\Continuum\\anaconda3\\lib\\site-packages\\ipykernel_launcher.py:23: SettingWithCopyWarning: \n",
      "A value is trying to be set on a copy of a slice from a DataFrame\n",
      "\n",
      "See the caveats in the documentation: http://pandas.pydata.org/pandas-docs/stable/user_guide/indexing.html#returning-a-view-versus-a-copy\n"
     ]
    },
    {
     "name": "stdout",
     "output_type": "stream",
     "text": [
      "Error on: http://marvel.wikia.com/wiki/Janet_van_Dyne_(Earth-616)\n"
     ]
    },
    {
     "name": "stderr",
     "output_type": "stream",
     "text": [
      "C:\\Users\\oglad\\AppData\\Local\\Continuum\\anaconda3\\lib\\site-packages\\ipykernel_launcher.py:27: SettingWithCopyWarning: \n",
      "A value is trying to be set on a copy of a slice from a DataFrame\n",
      "\n",
      "See the caveats in the documentation: http://pandas.pydata.org/pandas-docs/stable/user_guide/indexing.html#returning-a-view-versus-a-copy\n"
     ]
    },
    {
     "name": "stdout",
     "output_type": "stream",
     "text": [
      "Error on: http://marvel.wikia.com/wiki/May_Reilly_(Earth-616)\n",
      "Error on: http://marvel.wikia.com/wiki/Ben_Urich_(Earth-616)\n",
      "Error on: http://marvel.wikia.com/wiki/Jocasta_Vi_Quit%C3%A9ria_(Earth-616)\n",
      "Error on: http://marvel.wikia.com/wiki/Nadia_Pym_(Earth-616)\n",
      "Error on: http://marvel.wikia.com/wiki/Ego_(Earth-616)\n"
     ]
    }
   ],
   "source": [
    "# following for loop saves images to a local folder for front end development\n",
    "# each photo will be saved with a numerical ID. This new column helps connect characters to correct photos\n",
    "data['pic_id'] = ''\n",
    "\n",
    "for num in range(0,len(data)):\n",
    "    \n",
    "    url = data['url'][num]\n",
    "\n",
    "    # open link to character page\n",
    "    r = requests.get(url)\n",
    "\n",
    "    try:\n",
    "        soup = BeautifulSoup(r.content, \"lxml\")\n",
    "        \n",
    "        # find link to avatar picture\n",
    "        image_url = soup.findAll(\"figure\",{\"class\":\"pi-item pi-image\"})[0].find(\"a\")['href']\n",
    "\n",
    "        # open image, save to local folder\n",
    "        img_data = requests.get(image_url).content\n",
    "        with open(\"pictures/\" + str(num) + \".jpg\", 'wb') as handler:\n",
    "            handler.write(img_data)  \n",
    "            \n",
    "        data['pic_id'][num] = num\n",
    "        \n",
    "    except:\n",
    "        print(\"Error on: \" + url)\n",
    "        data['pic_id'][num] = -1"
   ]
  },
  {
   "cell_type": "code",
   "execution_count": null,
   "metadata": {},
   "outputs": [],
   "source": [
    "data['pic_id'][25] = 604\n",
    "data['pic_id'][35] = 605\n",
    "data['pic_id'][101] = 606\n",
    "data['pic_id'][301] = 607\n",
    "data['pic_id'][523] = 608\n",
    "data['pic_id'][551] = 609"
   ]
  },
  {
   "cell_type": "code",
   "execution_count": null,
   "metadata": {},
   "outputs": [],
   "source": [
    "data['url'][25] = \"https://marvel.fandom.com/wiki/Janet_Van_Dyne_(Earth-616)\"\n",
    "data['url'][35] = \"https://marvel.fandom.com/wiki/Maybelle_Reilly_(Earth-616)\"\n",
    "data['url'][101] = \"https://marvel.fandom.com/wiki/Benjamin_Urich_(Earth-616)\"\n",
    "data['url'][301] = \"https://marvel.fandom.com/wiki/Jocasta_Pym_(Earth-616)\"\n",
    "data['url'][523] = \"https://marvel.fandom.com/wiki/Nadia_Van_Dyne_(Earth-616)\"\n",
    "data['url'][551] = \"https://marvel.fandom.com/wiki/Egros_(Earth-616)\""
   ]
  },
  {
   "cell_type": "code",
   "execution_count": 44,
   "metadata": {},
   "outputs": [],
   "source": [
    "data.to_csv(\"Top_Marvel_characters_With_Metadata.csv\", index=False)"
   ]
  },
  {
   "cell_type": "markdown",
   "metadata": {},
   "source": [
    "## name, alias"
   ]
  },
  {
   "cell_type": "code",
   "execution_count": 2,
   "metadata": {},
   "outputs": [],
   "source": [
    "data = pd.read_csv(\"Top_Marvel_characters_With_Metadata.csv\")"
   ]
  },
  {
   "cell_type": "code",
   "execution_count": 3,
   "metadata": {},
   "outputs": [
    {
     "data": {
      "text/html": [
       "<div>\n",
       "<style scoped>\n",
       "    .dataframe tbody tr th:only-of-type {\n",
       "        vertical-align: middle;\n",
       "    }\n",
       "\n",
       "    .dataframe tbody tr th {\n",
       "        vertical-align: top;\n",
       "    }\n",
       "\n",
       "    .dataframe thead th {\n",
       "        text-align: right;\n",
       "    }\n",
       "</style>\n",
       "<table border=\"1\" class=\"dataframe\">\n",
       "  <thead>\n",
       "    <tr style=\"text-align: right;\">\n",
       "      <th></th>\n",
       "      <th>x</th>\n",
       "      <th>y</th>\n",
       "      <th>name</th>\n",
       "      <th>appearances</th>\n",
       "      <th>url</th>\n",
       "      <th>pic_id</th>\n",
       "    </tr>\n",
       "  </thead>\n",
       "  <tbody>\n",
       "    <tr>\n",
       "      <td>0</td>\n",
       "      <td>-64.827324</td>\n",
       "      <td>-21.116581</td>\n",
       "      <td>Peter Parker</td>\n",
       "      <td>4656</td>\n",
       "      <td>http://marvel.wikia.com/wiki/Peter_Parker_(Ear...</td>\n",
       "      <td>0</td>\n",
       "    </tr>\n",
       "    <tr>\n",
       "      <td>1</td>\n",
       "      <td>-65.331270</td>\n",
       "      <td>-20.446026</td>\n",
       "      <td>Steven Rogers</td>\n",
       "      <td>3604</td>\n",
       "      <td>http://marvel.wikia.com/wiki/Steven_Rogers_(Ea...</td>\n",
       "      <td>1</td>\n",
       "    </tr>\n",
       "  </tbody>\n",
       "</table>\n",
       "</div>"
      ],
      "text/plain": [
       "           x          y            name  appearances  \\\n",
       "0 -64.827324 -21.116581   Peter Parker          4656   \n",
       "1 -65.331270 -20.446026  Steven Rogers          3604   \n",
       "\n",
       "                                                 url  pic_id  \n",
       "0  http://marvel.wikia.com/wiki/Peter_Parker_(Ear...       0  \n",
       "1  http://marvel.wikia.com/wiki/Steven_Rogers_(Ea...       1  "
      ]
     },
     "execution_count": 3,
     "metadata": {},
     "output_type": "execute_result"
    }
   ],
   "source": [
    "data.head(2)"
   ]
  },
  {
   "cell_type": "code",
   "execution_count": 22,
   "metadata": {},
   "outputs": [],
   "source": [
    "def getSuperheroName(link):\n",
    "    \"\"\"\n",
    "    All character pages list the character's birth/legal name as its title\n",
    "    For example, Captain America's main page is titled \"Steven Rogers\"\n",
    "    This function collects each individual's superhero name\n",
    "    \"\"\"\n",
    "\n",
    "    r=requests.get(link)\n",
    "    if r.status_code != 200:\n",
    "        return -1\n",
    "    soup = BeautifulSoup(r.content, \"lxml\")\n",
    "    \n",
    "    return soup.find('h2',{'pi-item pi-item-spacing pi-title'}).text\n",
    "\n",
    "def getFullName(link):\n",
    "    \"\"\"\n",
    "    Several characters have nicknames. For example, we all know Ironman\n",
    "    to be the superhero name of Tony Stark, but Stark's birth/legal name is\n",
    "    \"Anthony Stark\", which is the name we originally collected. This function\n",
    "    collects characters' full names, which include their nickname\n",
    "    \"\"\"\n",
    "    \n",
    "    r=requests.get(link)\n",
    "    if r.status_code != 200:\n",
    "        return -1\n",
    "    soup = BeautifulSoup(r.content, \"lxml\")\n",
    "    \n",
    "    name = soup.find('div',{'class':'pi-data-value pi-font'}).text\n",
    "    \n",
    "    # Removing citation notation and leading space\n",
    "    name = name.replace(\" [1]\",\"\").strip(\" \")\n",
    "    name = name.replace(\"[1]\",\"\")\n",
    "    name = name.replace(\" [2]\",\"\")\n",
    "    name = name.replace(\"[2]\",\"\")\n",
    "    name = name.replace(\" [3]\",\"\")\n",
    "    return name.replace(\"[3]\",\"\")\n",
    "\n",
    "def nickName(fullName):\n",
    "    \"\"\"\n",
    "    Parses a nickname out of a full name, if a character has a nickname\n",
    "    \"\"\"\n",
    "    \n",
    "    if fullName == -1:\n",
    "        return fullName\n",
    "    \n",
    "    # No listed nickname in full name\n",
    "    if re.search(\"[\\\"\\'](.{,})[\\\"\\']\",fullName) is None:\n",
    "        return \"\"\n",
    "    \n",
    "    # Return nickname + last name\n",
    "    nickName = re.search(\"[\\\"\\'](.{,})[\\\"\\']\",fullName).group(1)\n",
    "    lastName = fullName.split(\" \")[-1]\n",
    "    return nickName + \" \" + lastName"
   ]
  },
  {
   "cell_type": "code",
   "execution_count": 6,
   "metadata": {},
   "outputs": [
    {
     "data": {
      "text/plain": [
       "'Captain America'"
      ]
     },
     "execution_count": 6,
     "metadata": {},
     "output_type": "execute_result"
    }
   ],
   "source": [
    "getSuperheroName(data['url'][1])"
   ]
  },
  {
   "cell_type": "code",
   "execution_count": 7,
   "metadata": {},
   "outputs": [
    {
     "data": {
      "text/plain": [
       "'Steven \"Steve\" Rogers'"
      ]
     },
     "execution_count": 7,
     "metadata": {},
     "output_type": "execute_result"
    }
   ],
   "source": [
    "getFullName(data['url'][1])"
   ]
  },
  {
   "cell_type": "code",
   "execution_count": 9,
   "metadata": {},
   "outputs": [
    {
     "data": {
      "text/plain": [
       "'Steve Rogers'"
      ]
     },
     "execution_count": 9,
     "metadata": {},
     "output_type": "execute_result"
    }
   ],
   "source": [
    "nickName('Steven \"Steve\" Rogers')"
   ]
  },
  {
   "cell_type": "code",
   "execution_count": 23,
   "metadata": {},
   "outputs": [],
   "source": [
    "data['superName'] = data['url'].apply(getSuperheroName)\n",
    "data['fullName'] = data['url'].apply(getFullName)\n",
    "data['nickName'] = data['fullName'].apply(nickName)"
   ]
  },
  {
   "cell_type": "code",
   "execution_count": 25,
   "metadata": {},
   "outputs": [
    {
     "data": {
      "text/html": [
       "<div>\n",
       "<style scoped>\n",
       "    .dataframe tbody tr th:only-of-type {\n",
       "        vertical-align: middle;\n",
       "    }\n",
       "\n",
       "    .dataframe tbody tr th {\n",
       "        vertical-align: top;\n",
       "    }\n",
       "\n",
       "    .dataframe thead th {\n",
       "        text-align: right;\n",
       "    }\n",
       "</style>\n",
       "<table border=\"1\" class=\"dataframe\">\n",
       "  <thead>\n",
       "    <tr style=\"text-align: right;\">\n",
       "      <th></th>\n",
       "      <th>x</th>\n",
       "      <th>y</th>\n",
       "      <th>name</th>\n",
       "      <th>appearances</th>\n",
       "      <th>url</th>\n",
       "      <th>pic_id</th>\n",
       "      <th>superName</th>\n",
       "      <th>fullName</th>\n",
       "      <th>nickName</th>\n",
       "    </tr>\n",
       "  </thead>\n",
       "  <tbody>\n",
       "    <tr>\n",
       "      <td>0</td>\n",
       "      <td>-64.827324</td>\n",
       "      <td>-21.116581</td>\n",
       "      <td>Peter Parker</td>\n",
       "      <td>4656</td>\n",
       "      <td>http://marvel.wikia.com/wiki/Peter_Parker_(Ear...</td>\n",
       "      <td>0</td>\n",
       "      <td>Spider-Man</td>\n",
       "      <td>Peter Benjamin Parker</td>\n",
       "      <td></td>\n",
       "    </tr>\n",
       "    <tr>\n",
       "      <td>1</td>\n",
       "      <td>-65.331270</td>\n",
       "      <td>-20.446026</td>\n",
       "      <td>Steven Rogers</td>\n",
       "      <td>3604</td>\n",
       "      <td>http://marvel.wikia.com/wiki/Steven_Rogers_(Ea...</td>\n",
       "      <td>1</td>\n",
       "      <td>Captain America</td>\n",
       "      <td>Steven \"Steve\" Rogers</td>\n",
       "      <td>Steve Rogers</td>\n",
       "    </tr>\n",
       "  </tbody>\n",
       "</table>\n",
       "</div>"
      ],
      "text/plain": [
       "           x          y            name  appearances  \\\n",
       "0 -64.827324 -21.116581   Peter Parker          4656   \n",
       "1 -65.331270 -20.446026  Steven Rogers          3604   \n",
       "\n",
       "                                                 url  pic_id        superName  \\\n",
       "0  http://marvel.wikia.com/wiki/Peter_Parker_(Ear...       0       Spider-Man   \n",
       "1  http://marvel.wikia.com/wiki/Steven_Rogers_(Ea...       1  Captain America   \n",
       "\n",
       "                fullName      nickName  \n",
       "0  Peter Benjamin Parker                \n",
       "1  Steven \"Steve\" Rogers  Steve Rogers  "
      ]
     },
     "execution_count": 25,
     "metadata": {},
     "output_type": "execute_result"
    }
   ],
   "source": [
    "data.head(2)"
   ]
  },
  {
   "cell_type": "code",
   "execution_count": 26,
   "metadata": {},
   "outputs": [
    {
     "name": "stderr",
     "output_type": "stream",
     "text": [
      "C:\\Users\\oglad\\AppData\\Local\\Continuum\\anaconda3\\lib\\site-packages\\ipykernel_launcher.py:3: SettingWithCopyWarning: \n",
      "A value is trying to be set on a copy of a slice from a DataFrame\n",
      "\n",
      "See the caveats in the documentation: http://pandas.pydata.org/pandas-docs/stable/user_guide/indexing.html#returning-a-view-versus-a-copy\n",
      "  This is separate from the ipykernel package so we can avoid doing imports until\n"
     ]
    }
   ],
   "source": [
    "for num in range(0,len(data)):\n",
    "    if data['nickName'][num] == \"\":\n",
    "        data['nickName'][num] = data['name'][num]"
   ]
  },
  {
   "cell_type": "code",
   "execution_count": 28,
   "metadata": {},
   "outputs": [],
   "source": [
    "data.to_csv(\"Top_Marvel_characters_With_Metadata.csv\", index=False)"
   ]
  }
 ],
 "metadata": {
  "kernelspec": {
   "display_name": "Python 3",
   "language": "python",
   "name": "python3"
  },
  "language_info": {
   "codemirror_mode": {
    "name": "ipython",
    "version": 3
   },
   "file_extension": ".py",
   "mimetype": "text/x-python",
   "name": "python",
   "nbconvert_exporter": "python",
   "pygments_lexer": "ipython3",
   "version": "3.7.4"
  }
 },
 "nbformat": 4,
 "nbformat_minor": 2
}
