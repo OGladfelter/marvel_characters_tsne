{
 "cells": [
  {
   "cell_type": "markdown",
   "metadata": {},
   "source": [
    "# Marvel Network Data\n",
    "\n",
    "## Author: Oliver Gladfelter\n",
    "\n",
    "### Date: Sep 10, 2020"
   ]
  },
  {
   "cell_type": "code",
   "execution_count": 2,
   "metadata": {},
   "outputs": [],
   "source": [
    "import lxml.html as lh\n",
    "import io\n",
    "import requests\n",
    "from bs4 import BeautifulSoup\n",
    "import pandas as pd\n",
    "import re"
   ]
  },
  {
   "cell_type": "markdown",
   "metadata": {},
   "source": [
    "## Crawl And Save URLs To All 29k Earth-616 Character Pages"
   ]
  },
  {
   "cell_type": "code",
   "execution_count": 3,
   "metadata": {},
   "outputs": [],
   "source": [
    "def charactersFromPage(url):\n",
    "    \"\"\"\n",
    "    This Marvel Category section lists all the teams from the comic books. However, only 200 are shown per page.\n",
    "    This function scrapes the url to each of those teams that are in the 616 universe.\n",
    "    \"\"\"\n",
    "    \n",
    "    r = requests.get(url)\n",
    "    soup = BeautifulSoup(r.content, \"lxml\")\n",
    "    \n",
    "    li = soup.find('div',{'class':'category-page__members'}).findAll('li')\n",
    "    \n",
    "    teamURLs = []\n",
    "    \n",
    "    for item in li:\n",
    "        teamURLs.append('http://marvel.wikia.com' + item.find('a')['href'])\n",
    "            \n",
    "    return teamURLs\n",
    "\n",
    "def getPageLinksOfCategory(url):\n",
    "    \"\"\"\n",
    "    The previous function pulls team URLs from any given category page. We now need links to each of the team category pages,\n",
    "    which is necessary because each of these pages shows just 200 teams. \n",
    "    The URLs also look like \"https://marvel.fandom.com/wiki/Category:Active_Teams?from=Brotherhood+%28Earth-13729%29\", rather than\n",
    "    \"https://marvel.fandom.com/wiki/Category:Active_Teams?page=1\", so we need to make use of the 'next page' button at \n",
    "    the bottom of each category page.\n",
    "    \n",
    "    parameters: url - url to page one of any category\n",
    "    returns: list of urls to every single page in the category\n",
    "    \"\"\"\n",
    "    \n",
    "    page_links = []\n",
    "    link_to_next_page = \"this can be anything\" # just initializing this for the loop\n",
    "    \n",
    "    # every category page contains 200 links, which we're collecting.\n",
    "    # every page always has 'previous 200' and 'next 200' hyperlinked text, with links to\n",
    "    # previous and next pages. We use these links to advance through the category pages. \n",
    "    # But when the 'next 200' text isn't on the page, this lets us know we've reached the \n",
    "    # final page and should stop\n",
    "    while link_to_next_page is not None:\n",
    "        r = requests.get(url)\n",
    "\n",
    "        if r.status_code != 200:\n",
    "            continue \n",
    "        else:\n",
    "            soup = BeautifulSoup(r.content, \"lxml\")\n",
    "        \n",
    "        # search the page for the 'next' button and grab its hyperlink      \n",
    "        link_to_next_page = soup.find('a',{'class':'category-page__pagination-next'})\n",
    "        \n",
    "        try:\n",
    "            url = link_to_next_page['href'] # this will be used in the next iteration of the loop\n",
    "        except:\n",
    "            print(\"Last page reached!\")\n",
    "        page_links.append(url) # but first, save it to the array which will eventually be returned\n",
    "        \n",
    "    # should return a list of URLs to every page in the category, which will be used in the next step\n",
    "    return page_links"
   ]
  },
  {
   "cell_type": "code",
   "execution_count": 4,
   "metadata": {
    "scrolled": true
   },
   "outputs": [
    {
     "name": "stdout",
     "output_type": "stream",
     "text": [
      "Last page reached!\n"
     ]
    }
   ],
   "source": [
    "# get list of all URLs in \"Earth-616\" category on the Marvel Wiki\n",
    "character_pages = getPageLinksOfCategory(\"https://marvel.fandom.com/wiki/Category:Earth-616_Characters\")"
   ]
  },
  {
   "cell_type": "code",
   "execution_count": 5,
   "metadata": {},
   "outputs": [
    {
     "name": "stdout",
     "output_type": "stream",
     "text": [
      "This saved us from having to manually navigate to and save 146 page URLs.\n"
     ]
    }
   ],
   "source": [
    "print(\"This saved us from having to manually navigate to and save \" + str(len(character_pages)) + \" page URLs.\")"
   ]
  },
  {
   "cell_type": "code",
   "execution_count": 6,
   "metadata": {},
   "outputs": [],
   "source": [
    "# now, get links to each of the Earth-616 teams throughout these 11 pages\n",
    "characters = []\n",
    "\n",
    "for page in character_pages:\n",
    "    characters = characters + charactersFromPage(page)\n",
    "    \n",
    "# convert to df\n",
    "characters = pd.DataFrame(characters, columns=['url'])"
   ]
  },
  {
   "cell_type": "code",
   "execution_count": 7,
   "metadata": {},
   "outputs": [
    {
     "data": {
      "text/plain": [
       "29136"
      ]
     },
     "execution_count": 7,
     "metadata": {},
     "output_type": "execute_result"
    }
   ],
   "source": [
    "len(characters)"
   ]
  },
  {
   "cell_type": "code",
   "execution_count": 10,
   "metadata": {},
   "outputs": [],
   "source": [
    "characters.to_csv(\"Marvel_Character_Data.csv\", index=False)"
   ]
  },
  {
   "cell_type": "markdown",
   "metadata": {},
   "source": [
    "## Visit every character page to grab number of comic book appearances"
   ]
  },
  {
   "cell_type": "code",
   "execution_count": 20,
   "metadata": {},
   "outputs": [],
   "source": [
    "def getAppearanceCount(link):\n",
    "    # note: this is searching for 'major appearances'. For characters with 0 major appearances,\n",
    "    # this function will return an empty string\n",
    "    \n",
    "    r = requests.get(link)\n",
    "\n",
    "    soup = BeautifulSoup(r.content, \"lxml\")\n",
    "\n",
    "    uls = soup.findAll(\"ul\")\n",
    "\n",
    "    # the \"number of appearances\" is always in an unordered list\n",
    "    for ul in uls:\n",
    "        if re.search(\"Appearances of\",ul.text) is not None:\n",
    "            links_and_references_list = ul\n",
    "\n",
    "    # appearance count is always first\n",
    "    appearanceCount = links_and_references_list.findAll(\"li\")[0].text\n",
    "    appearanceString = re.search(\"\\s?([\\d,]{,})\\sA\",appearanceCount).group(1)\n",
    "    \n",
    "    # If a value has at least a thousand views, remove comma in the string\n",
    "    return appearanceString.replace(\",\",\"\")"
   ]
  },
  {
   "cell_type": "code",
   "execution_count": null,
   "metadata": {},
   "outputs": [],
   "source": [
    "characters['appearances'] = ''"
   ]
  },
  {
   "cell_type": "code",
   "execution_count": 66,
   "metadata": {},
   "outputs": [],
   "source": [
    "# using a loop here works best as there are so many requests to make\n",
    "# Marvel wiki website did interupt after ~20k calls, but I was able to resume after waiting ~60 minutes\n",
    "for num in range(0,len(characters)):\n",
    "    characters['appearances'][num] = getAppearanceCount(characters['url'][num])"
   ]
  },
  {
   "cell_type": "code",
   "execution_count": 71,
   "metadata": {},
   "outputs": [],
   "source": [
    "import winsound\n",
    "for i in range(1, 15):\n",
    "    winsound.Beep(i * 100, 200)"
   ]
  },
  {
   "cell_type": "code",
   "execution_count": 69,
   "metadata": {},
   "outputs": [],
   "source": [
    "characters.to_csv(\"Marvel_Character_Data.csv\", index=False)"
   ]
  },
  {
   "cell_type": "markdown",
   "metadata": {},
   "source": [
    "## Subset to 750 Characters With The Most Appearances"
   ]
  },
  {
   "cell_type": "code",
   "execution_count": 92,
   "metadata": {},
   "outputs": [],
   "source": [
    "# removing the 8% of characters who had no major appearances\n",
    "characters = characters[characters['appearances']!=\"\"]\n",
    "\n",
    "characters = characters.reset_index()\n",
    "del characters['index']\n",
    "\n",
    "# convert appearances to int\n",
    "for num in range(0,len(characters)):\n",
    "    characters['appearances'][num] = int(characters['appearances'][num])\n",
    "\n",
    "# subset to only characters in at least 61 comic books\n",
    "characters = characters[characters['appearances']>60]\n",
    "\n",
    "\n",
    "characters = characters.sort_values('appearances', ascending=False)\n",
    "\n",
    "characters = characters.reset_index()\n",
    "del characters['index']"
   ]
  },
  {
   "cell_type": "code",
   "execution_count": 108,
   "metadata": {},
   "outputs": [],
   "source": [
    "characters.to_csv(\"Marvel_Character_Data.csv\", index=False)"
   ]
  },
  {
   "cell_type": "markdown",
   "metadata": {},
   "source": [
    "## For each character, get list of comic books they've appeared in"
   ]
  },
  {
   "cell_type": "code",
   "execution_count": 143,
   "metadata": {},
   "outputs": [],
   "source": [
    "def comicBooksFromPage(url):\n",
    "    \n",
    "    r = requests.get(url)\n",
    "    soup = BeautifulSoup(r.content, \"lxml\")\n",
    "    \n",
    "    li = soup.find('div',{'class':'category-page__members'}).findAll('li')\n",
    "    \n",
    "    teamURLs = []\n",
    "    \n",
    "    for item in li:\n",
    "        teamURLs.append(item.find('a')['href'])\n",
    "            \n",
    "    return teamURLs\n",
    "\n",
    "def getAppearances(url):\n",
    "    \"\"\"\n",
    "    Every Marvel character page has a \"Links and References\" section (unordered list). The first item is always the appearance\n",
    "    count and hyperlinks to a category section of comic books that character has appeared in.\n",
    "    Example: https://marvel.fandom.com/wiki/Category:Peter_Parker_(Earth-616)/Appearances\n",
    "    \n",
    "    This function goes to a character page, uses the title to generate a URL to their appearances, follows that URL,\n",
    "    and scrapes the name of every comic book they've appeared in\n",
    "    \n",
    "    Parameter: url to character page\n",
    "    Returns: list of comic book titles\n",
    "    \"\"\"\n",
    "    \n",
    "    # open character page\n",
    "    r = requests.get(url)\n",
    "    soup = BeautifulSoup(r.content, \"lxml\")\n",
    "    \n",
    "    # get page title\n",
    "    page_title = soup.find('h1', {'class':'page-header__title'}).text\n",
    "        \n",
    "    # generate url to appearances\n",
    "    character_appearances_url = \"https://marvel.fandom.com/wiki/Category:{}/Appearances\".format(page_title.replace(\" \",\"_\"))\n",
    "        \n",
    "    # grab all URLs from this category\n",
    "    comic_book_appearance_pages = getPageLinksOfCategory(character_appearances_url)\n",
    "     \n",
    "    comicBooks = []\n",
    "    \n",
    "    for page in comic_book_appearance_pages:\n",
    "        comicBooks = comicBooks + comicBooksFromPage(page)\n",
    "\n",
    "    # list of every comic book they've appeared in\n",
    "    return comicBooks"
   ]
  },
  {
   "cell_type": "code",
   "execution_count": null,
   "metadata": {},
   "outputs": [],
   "source": [
    "characters['appearanceList'] = \"\"\n",
    "\n",
    "for num in range(0,len(characters)):\n",
    "    characters['appearanceList'][num] = getAppearances(characters['url'][num])"
   ]
  },
  {
   "cell_type": "code",
   "execution_count": 156,
   "metadata": {},
   "outputs": [
    {
     "data": {
      "text/html": [
       "<div>\n",
       "<style scoped>\n",
       "    .dataframe tbody tr th:only-of-type {\n",
       "        vertical-align: middle;\n",
       "    }\n",
       "\n",
       "    .dataframe tbody tr th {\n",
       "        vertical-align: top;\n",
       "    }\n",
       "\n",
       "    .dataframe thead th {\n",
       "        text-align: right;\n",
       "    }\n",
       "</style>\n",
       "<table border=\"1\" class=\"dataframe\">\n",
       "  <thead>\n",
       "    <tr style=\"text-align: right;\">\n",
       "      <th></th>\n",
       "      <th>url</th>\n",
       "      <th>appearances</th>\n",
       "      <th>appearanceList</th>\n",
       "    </tr>\n",
       "  </thead>\n",
       "  <tbody>\n",
       "    <tr>\n",
       "      <td>0</td>\n",
       "      <td>http://marvel.wikia.com/wiki/Peter_Parker_(Ear...</td>\n",
       "      <td>4311</td>\n",
       "      <td>[/wiki/Amazing_Spider-Man_Vol_1_102, /wiki/Ama...</td>\n",
       "    </tr>\n",
       "    <tr>\n",
       "      <td>1</td>\n",
       "      <td>http://marvel.wikia.com/wiki/Steven_Rogers_(Ea...</td>\n",
       "      <td>3581</td>\n",
       "      <td>[/wiki/Tales_of_Suspense_Vol_1_76, /wiki/Aveng...</td>\n",
       "    </tr>\n",
       "  </tbody>\n",
       "</table>\n",
       "</div>"
      ],
      "text/plain": [
       "                                                 url appearances  \\\n",
       "0  http://marvel.wikia.com/wiki/Peter_Parker_(Ear...        4311   \n",
       "1  http://marvel.wikia.com/wiki/Steven_Rogers_(Ea...        3581   \n",
       "\n",
       "                                      appearanceList  \n",
       "0  [/wiki/Amazing_Spider-Man_Vol_1_102, /wiki/Ama...  \n",
       "1  [/wiki/Tales_of_Suspense_Vol_1_76, /wiki/Aveng...  "
      ]
     },
     "execution_count": 156,
     "metadata": {},
     "output_type": "execute_result"
    }
   ],
   "source": [
    "characters.head(2)"
   ]
  },
  {
   "cell_type": "code",
   "execution_count": 155,
   "metadata": {},
   "outputs": [],
   "source": [
    "characters.to_csv(\"Marvel_Character_Data.csv\", index=False)"
   ]
  },
  {
   "cell_type": "markdown",
   "metadata": {},
   "source": [
    "## Use list intersections to get number of common comic book appearances between all possible character pairs"
   ]
  },
  {
   "cell_type": "code",
   "execution_count": 158,
   "metadata": {},
   "outputs": [],
   "source": [
    "character1 = []\n",
    "character2 = []\n",
    "numConnections = []\n",
    "\n",
    "for num in range(0,len(characters)):\n",
    "    # for loop starts with num to avoid finding intersections for characters we've already covered \n",
    "    for num2 in range(num,len(characters)):\n",
    "        if characters['url'][num] == characters['url'][num2]:\n",
    "            continue\n",
    "        character1.append(characters['url'][num])\n",
    "        character2.append(characters['url'][num2])\n",
    "        numConnections.append(len(set(characters['appearanceList'][num]).intersection(characters['appearanceList'][num2])))\n",
    "\n",
    "# construct a pd showing how many common appearances every possible combination of 2 characters have\n",
    "network = pd.DataFrame({'url1':character1,'url2':character2,'numConnections':numConnections})"
   ]
  },
  {
   "cell_type": "code",
   "execution_count": 164,
   "metadata": {},
   "outputs": [
    {
     "data": {
      "text/plain": [
       "292992"
      ]
     },
     "execution_count": 164,
     "metadata": {},
     "output_type": "execute_result"
    }
   ],
   "source": [
    "len(network) # should be around len(characters)^2 / 2"
   ]
  },
  {
   "cell_type": "code",
   "execution_count": 174,
   "metadata": {},
   "outputs": [
    {
     "data": {
      "text/html": [
       "<div>\n",
       "<style scoped>\n",
       "    .dataframe tbody tr th:only-of-type {\n",
       "        vertical-align: middle;\n",
       "    }\n",
       "\n",
       "    .dataframe tbody tr th {\n",
       "        vertical-align: top;\n",
       "    }\n",
       "\n",
       "    .dataframe thead th {\n",
       "        text-align: right;\n",
       "    }\n",
       "</style>\n",
       "<table border=\"1\" class=\"dataframe\">\n",
       "  <thead>\n",
       "    <tr style=\"text-align: right;\">\n",
       "      <th></th>\n",
       "      <th>url1</th>\n",
       "      <th>url2</th>\n",
       "      <th>numConnections</th>\n",
       "    </tr>\n",
       "  </thead>\n",
       "  <tbody>\n",
       "    <tr>\n",
       "      <td>3818</td>\n",
       "      <td>http://marvel.wikia.com/wiki/Benjamin_Grimm_(E...</td>\n",
       "      <td>http://marvel.wikia.com/wiki/Jonathan_Storm_(E...</td>\n",
       "      <td>1412</td>\n",
       "    </tr>\n",
       "    <tr>\n",
       "      <td>3815</td>\n",
       "      <td>http://marvel.wikia.com/wiki/Benjamin_Grimm_(E...</td>\n",
       "      <td>http://marvel.wikia.com/wiki/Reed_Richards_(Ea...</td>\n",
       "      <td>1407</td>\n",
       "    </tr>\n",
       "    <tr>\n",
       "      <td>765</td>\n",
       "      <td>http://marvel.wikia.com/wiki/Steven_Rogers_(Ea...</td>\n",
       "      <td>http://marvel.wikia.com/wiki/Anthony_Stark_(Ea...</td>\n",
       "      <td>1370</td>\n",
       "    </tr>\n",
       "  </tbody>\n",
       "</table>\n",
       "</div>"
      ],
      "text/plain": [
       "                                                   url1  \\\n",
       "3818  http://marvel.wikia.com/wiki/Benjamin_Grimm_(E...   \n",
       "3815  http://marvel.wikia.com/wiki/Benjamin_Grimm_(E...   \n",
       "765   http://marvel.wikia.com/wiki/Steven_Rogers_(Ea...   \n",
       "\n",
       "                                                   url2  numConnections  \n",
       "3818  http://marvel.wikia.com/wiki/Jonathan_Storm_(E...            1412  \n",
       "3815  http://marvel.wikia.com/wiki/Reed_Richards_(Ea...            1407  \n",
       "765   http://marvel.wikia.com/wiki/Anthony_Stark_(Ea...            1370  "
      ]
     },
     "execution_count": 174,
     "metadata": {},
     "output_type": "execute_result"
    }
   ],
   "source": [
    "network.sort_values('numConnections',ascending=False).head(3)"
   ]
  },
  {
   "cell_type": "code",
   "execution_count": 178,
   "metadata": {},
   "outputs": [],
   "source": [
    "network = network[network['numConnections'] != 0] # this removed 54% of rows for me\n",
    "network = network.reset_index()\n",
    "del network['index']\n",
    "\n",
    "network.to_csv(\"num_connections_between_character_pairs.csv\", index=False)"
   ]
  },
  {
   "cell_type": "markdown",
   "metadata": {},
   "source": [
    "## Use TSN-E to compute (x,y) coordinates for each character"
   ]
  },
  {
   "cell_type": "code",
   "execution_count": 179,
   "metadata": {},
   "outputs": [
    {
     "name": "stdout",
     "output_type": "stream",
     "text": [
      "(753, 763)\n"
     ]
    }
   ],
   "source": [
    "# convert network df into matrix\n",
    "network = network.pivot_table(columns='url2', index='url1', values='numConnections').reset_index()\n",
    "\n",
    "# fill missing connections with 0 - there are no common appearances\n",
    "network = network.fillna(0)\n",
    "\n",
    "# check network shape\n",
    "print(network.shape)\n",
    "\n",
    "# save url1 column, then drop it from matrix since it's non-numeric and can't go into TSN-E algorithm\n",
    "character_coordinates = network[['url1']]\n",
    "network = network.drop(['url1'], axis=1)\n",
    "\n",
    "# TSNE stuff\n",
    "from sklearn.manifold import TSNE\n",
    "m = TSNE(learning_rate=50)\n",
    "\n",
    "tsne_features = m.fit_transform(network)\n",
    "\n",
    "# sanity check: each character should have one set of tsne_features values\n",
    "assert(len(tsne_features) == len(network))\n",
    "\n",
    "# for each character, apply their (x,y) coordinates\n",
    "character_coordinates['x'] = tsne_features[:,0]\n",
    "character_coordinates['y'] = tsne_features[:,1]"
   ]
  },
  {
   "cell_type": "markdown",
   "metadata": {},
   "source": [
    "## Viz Test"
   ]
  },
  {
   "cell_type": "code",
   "execution_count": 182,
   "metadata": {},
   "outputs": [
    {
     "data": {
      "image/png": "[encoded data removed]",
      "text/plain": [
       "<Figure size 432x288 with 1 Axes>"
      ]
     },
     "metadata": {
      "needs_background": "light"
     },
     "output_type": "display_data"
    }
   ],
   "source": [
    "import seaborn as sns\n",
    "import matplotlib.pyplot as plt\n",
    "sns.scatterplot(x=\"x\", y=\"y\", data=character_coordinates)\n",
    "plt.show()"
   ]
  },
  {
   "cell_type": "markdown",
   "metadata": {},
   "source": [
    "## Merge character & character_coordinates dataframes"
   ]
  },
  {
   "cell_type": "code",
   "execution_count": 188,
   "metadata": {},
   "outputs": [],
   "source": [
    "# merge to combine # of appearances and (x,y) coordinates\n",
    "data = characters.merge(character_coordinates, left_on='url', right_on='url1')\n",
    "data = data[['url', 'appearances', 'x', 'y']]\n",
    "\n",
    "# save\n",
    "data.to_csv(\"Marvel_Character_Data.csv\", index=False)"
   ]
  },
  {
   "cell_type": "code",
   "execution_count": 187,
   "metadata": {},
   "outputs": [
    {
     "data": {
      "text/html": [
       "<div>\n",
       "<style scoped>\n",
       "    .dataframe tbody tr th:only-of-type {\n",
       "        vertical-align: middle;\n",
       "    }\n",
       "\n",
       "    .dataframe tbody tr th {\n",
       "        vertical-align: top;\n",
       "    }\n",
       "\n",
       "    .dataframe thead th {\n",
       "        text-align: right;\n",
       "    }\n",
       "</style>\n",
       "<table border=\"1\" class=\"dataframe\">\n",
       "  <thead>\n",
       "    <tr style=\"text-align: right;\">\n",
       "      <th></th>\n",
       "      <th>url</th>\n",
       "      <th>appearances</th>\n",
       "      <th>x</th>\n",
       "      <th>y</th>\n",
       "    </tr>\n",
       "  </thead>\n",
       "  <tbody>\n",
       "    <tr>\n",
       "      <td>0</td>\n",
       "      <td>http://marvel.wikia.com/wiki/Peter_Parker_(Ear...</td>\n",
       "      <td>4311</td>\n",
       "      <td>-34.798626</td>\n",
       "      <td>23.953491</td>\n",
       "    </tr>\n",
       "    <tr>\n",
       "      <td>1</td>\n",
       "      <td>http://marvel.wikia.com/wiki/Steven_Rogers_(Ea...</td>\n",
       "      <td>3581</td>\n",
       "      <td>-34.427849</td>\n",
       "      <td>24.666586</td>\n",
       "    </tr>\n",
       "  </tbody>\n",
       "</table>\n",
       "</div>"
      ],
      "text/plain": [
       "                                                 url appearances          x  \\\n",
       "0  http://marvel.wikia.com/wiki/Peter_Parker_(Ear...        4311 -34.798626   \n",
       "1  http://marvel.wikia.com/wiki/Steven_Rogers_(Ea...        3581 -34.427849   \n",
       "\n",
       "           y  \n",
       "0  23.953491  \n",
       "1  24.666586  "
      ]
     },
     "execution_count": 187,
     "metadata": {},
     "output_type": "execute_result"
    }
   ],
   "source": [
    "data.head(2)"
   ]
  },
  {
   "cell_type": "markdown",
   "metadata": {},
   "source": [
    "## Scrape each character page for profile picture and meta data\n",
    "### Meta data being: super hero mantle name, legal full name, team affiliations"
   ]
  },
  {
   "cell_type": "code",
   "execution_count": 189,
   "metadata": {},
   "outputs": [],
   "source": [
    "def get_super_name(soup):\n",
    "    \"\"\"\n",
    "    All character pages list the character's birth/legal name as its title\n",
    "    For example, Captain America's main page is titled \"Steven Rogers\"\n",
    "    This function collects each individual's superhero name\n",
    "    \"\"\"\n",
    "    \n",
    "    return soup.find('h2',{'pi-item pi-item-spacing pi-title'}).text\n",
    "\n",
    "def get_full_name(soup):\n",
    "    \"\"\"\n",
    "    Several characters have nicknames. For example, we all know Ironman\n",
    "    to be the superhero name of Tony Stark, but Stark's birth/legal name is\n",
    "    \"Anthony Stark\", which is the name we originally collected. This function\n",
    "    collects characters' full names, which include their nickname\n",
    "    \"\"\"\n",
    "    \n",
    "    name = soup.find('div',{'class':'pi-data-value pi-font'}).text\n",
    "    \n",
    "    # Removing citation notation and leading space\n",
    "    name = name.replace(\" [1]\",\"\").strip(\" \")\n",
    "    name = name.replace(\"[1]\",\"\")\n",
    "    name = name.replace(\" [2]\",\"\")\n",
    "    name = name.replace(\"[2]\",\"\")\n",
    "    name = name.replace(\" [3]\",\"\")\n",
    "    return name.replace(\"[3]\",\"\")\n",
    "\n",
    "def nickName(fullName):\n",
    "    \"\"\"\n",
    "    Parses a nickname out of a full name, if a character has a nickname\n",
    "    \"\"\"\n",
    "    \n",
    "    if fullName == -1:\n",
    "        return fullName\n",
    "    \n",
    "    # No listed nickname in full name\n",
    "    if re.search(\"[\\\"\\'](.{,})[\\\"\\']\",fullName) is None:\n",
    "        return \"\"\n",
    "    \n",
    "    # Return nickname + last name\n",
    "    nickName = re.search(\"[\\\"\\'](.{,})[\\\"\\']\",fullName).group(1)\n",
    "    lastName = fullName.split(\" \")[-1]\n",
    "    return nickName + \" \" + lastName\n",
    "\n",
    "def get_affiliations(soup):\n",
    "    \"\"\"\n",
    "    All character pages list teams/organizations the character have ever been a part of\n",
    "    This function retrieves the list and returns it in a string\n",
    "    \"\"\"\n",
    "    \n",
    "    # not all characters have affiliations\n",
    "    try:\n",
    "        return soup.find('div', {'data-source':'Affiliation'}).find('div').text\n",
    "    except:\n",
    "        return -1\n",
    "    \n",
    "def get_meta_data(soup):\n",
    "    \n",
    "    super_name = get_super_name(soup)\n",
    "    legal_name = get_full_name(soup)\n",
    "    affiliations = get_affiliations(soup)\n",
    "    \n",
    "    return [super_name, legal_name, affiliations]"
   ]
  },
  {
   "cell_type": "code",
   "execution_count": null,
   "metadata": {
    "scrolled": true
   },
   "outputs": [],
   "source": [
    "# following for loop saves images to a local folder for front end development\n",
    "# each photo will be saved with a numerical ID. This new column helps connect characters to correct photos\n",
    "data['pic_id'] = ''\n",
    "data['meta_data'] = ''\n",
    "\n",
    "for num in range(0,len(data)):\n",
    "\n",
    "    # open link to character page\n",
    "    r = requests.get(data['url'][num])\n",
    "    soup = BeautifulSoup(r.content, \"lxml\")\n",
    "\n",
    "    ##### AVATAR PICTURE #####\n",
    "    # find link to avatar picture\n",
    "    image_url = soup.findAll(\"figure\",{\"class\":\"pi-item pi-image\"})[0].find(\"a\")['href']\n",
    "\n",
    "    # open image, save to local folder\n",
    "    img_data = requests.get(image_url).content\n",
    "    with open(\"pictures/\" + str(num) + \".jpg\", 'wb') as handler:\n",
    "        handler.write(img_data)  \n",
    "\n",
    "    # save image name as a variable in dataframe for future connecting\n",
    "    data['pic_id'][num] = num\n",
    "    ##########################\n",
    "    \n",
    "    ##### META DATA #####\n",
    "    \n",
    "    meta_data = get_meta_data(soup)\n",
    "    data['meta_data'][num] = meta_data\n",
    "    \n",
    "    ##########################"
   ]
  },
  {
   "cell_type": "code",
   "execution_count": 194,
   "metadata": {},
   "outputs": [],
   "source": [
    "def superName(meta_data):\n",
    "    return meta_data[0]\n",
    "\n",
    "def fullName(meta_data):\n",
    "    return meta_data[1]\n",
    "\n",
    "def teams(meta_data):\n",
    "    return meta_data[2]\n",
    "\n",
    "# seperate meta data into three columns and parse nick name out of full name\n",
    "data['superName'] = data['meta_data'].apply(superName)\n",
    "data['fullName'] = data['meta_data'].apply(fullName)\n",
    "data['nickName'] = data['fullName'].apply(nickName)\n",
    "data['teams'] = data['meta_data'].apply(teams)"
   ]
  },
  {
   "cell_type": "markdown",
   "metadata": {},
   "source": [
    "## Review final dataframe and save"
   ]
  },
  {
   "cell_type": "code",
   "execution_count": 200,
   "metadata": {},
   "outputs": [
    {
     "data": {
      "text/html": [
       "<div>\n",
       "<style scoped>\n",
       "    .dataframe tbody tr th:only-of-type {\n",
       "        vertical-align: middle;\n",
       "    }\n",
       "\n",
       "    .dataframe tbody tr th {\n",
       "        vertical-align: top;\n",
       "    }\n",
       "\n",
       "    .dataframe thead th {\n",
       "        text-align: right;\n",
       "    }\n",
       "</style>\n",
       "<table border=\"1\" class=\"dataframe\">\n",
       "  <thead>\n",
       "    <tr style=\"text-align: right;\">\n",
       "      <th></th>\n",
       "      <th>url</th>\n",
       "      <th>appearances</th>\n",
       "      <th>x</th>\n",
       "      <th>y</th>\n",
       "      <th>pic_id</th>\n",
       "      <th>meta_data</th>\n",
       "      <th>superName</th>\n",
       "      <th>fullName</th>\n",
       "      <th>nickName</th>\n",
       "      <th>teams</th>\n",
       "    </tr>\n",
       "  </thead>\n",
       "  <tbody>\n",
       "    <tr>\n",
       "      <td>0</td>\n",
       "      <td>http://marvel.wikia.com/wiki/Peter_Parker_(Ear...</td>\n",
       "      <td>4311</td>\n",
       "      <td>-34.798626</td>\n",
       "      <td>23.953491</td>\n",
       "      <td>0</td>\n",
       "      <td>[Spider-Man, Peter Benjamin Parker, As Peter P...</td>\n",
       "      <td>Spider-Man</td>\n",
       "      <td>Peter Benjamin Parker</td>\n",
       "      <td></td>\n",
       "      <td>As Peter Parker: Daily Bugle (formerly Front L...</td>\n",
       "    </tr>\n",
       "    <tr>\n",
       "      <td>1</td>\n",
       "      <td>http://marvel.wikia.com/wiki/Steven_Rogers_(Ea...</td>\n",
       "      <td>3581</td>\n",
       "      <td>-34.427849</td>\n",
       "      <td>24.666586</td>\n",
       "      <td>1</td>\n",
       "      <td>[Captain America, Steven \"Steve\" Rogers, Aveng...</td>\n",
       "      <td>Captain America</td>\n",
       "      <td>Steven \"Steve\" Rogers</td>\n",
       "      <td>Steve Rogers</td>\n",
       "      <td>Avengers (off-field leader); formerly S.H.I.E....</td>\n",
       "    </tr>\n",
       "    <tr>\n",
       "      <td>2</td>\n",
       "      <td>http://marvel.wikia.com/wiki/Anthony_Stark_(Ea...</td>\n",
       "      <td>3290</td>\n",
       "      <td>-34.198433</td>\n",
       "      <td>24.481848</td>\n",
       "      <td>2</td>\n",
       "      <td>[Iron Man, Anthony Edward \"Tony\" Stark, A.I. A...</td>\n",
       "      <td>Iron Man</td>\n",
       "      <td>Anthony Edward \"Tony\" Stark</td>\n",
       "      <td>Tony Stark</td>\n",
       "      <td>A.I. Army; formerly Avengers, Stark Unlimited ...</td>\n",
       "    </tr>\n",
       "  </tbody>\n",
       "</table>\n",
       "</div>"
      ],
      "text/plain": [
       "                                                 url appearances          x  \\\n",
       "0  http://marvel.wikia.com/wiki/Peter_Parker_(Ear...        4311 -34.798626   \n",
       "1  http://marvel.wikia.com/wiki/Steven_Rogers_(Ea...        3581 -34.427849   \n",
       "2  http://marvel.wikia.com/wiki/Anthony_Stark_(Ea...        3290 -34.198433   \n",
       "\n",
       "           y pic_id                                          meta_data  \\\n",
       "0  23.953491      0  [Spider-Man, Peter Benjamin Parker, As Peter P...   \n",
       "1  24.666586      1  [Captain America, Steven \"Steve\" Rogers, Aveng...   \n",
       "2  24.481848      2  [Iron Man, Anthony Edward \"Tony\" Stark, A.I. A...   \n",
       "\n",
       "         superName                     fullName      nickName  \\\n",
       "0       Spider-Man        Peter Benjamin Parker                 \n",
       "1  Captain America        Steven \"Steve\" Rogers  Steve Rogers   \n",
       "2         Iron Man  Anthony Edward \"Tony\" Stark    Tony Stark   \n",
       "\n",
       "                                               teams  \n",
       "0  As Peter Parker: Daily Bugle (formerly Front L...  \n",
       "1  Avengers (off-field leader); formerly S.H.I.E....  \n",
       "2  A.I. Army; formerly Avengers, Stark Unlimited ...  "
      ]
     },
     "execution_count": 200,
     "metadata": {},
     "output_type": "execute_result"
    }
   ],
   "source": [
    "data.head(3)"
   ]
  },
  {
   "cell_type": "code",
   "execution_count": 197,
   "metadata": {},
   "outputs": [],
   "source": [
    "data.to_csv(\"Marvel_Character_Data.csv\", index=False)"
   ]
  }
 ],
 "metadata": {
  "kernelspec": {
   "display_name": "Python 3",
   "language": "python",
   "name": "python3"
  },
  "language_info": {
   "codemirror_mode": {
    "name": "ipython",
    "version": 3
   },
   "file_extension": ".py",
   "mimetype": "text/x-python",
   "name": "python",
   "nbconvert_exporter": "python",
   "pygments_lexer": "ipython3",
   "version": "3.7.4"
  }
 },
 "nbformat": 4,
 "nbformat_minor": 2
}
