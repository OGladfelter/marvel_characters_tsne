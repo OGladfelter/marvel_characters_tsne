{
 "cells": [
  {
   "cell_type": "markdown",
   "metadata": {},
   "source": [
    "## Opens every image scraped from Marvel Wiki and crops into a square before saving to new location. If image height does not exceed image width, print for manual inspection."
   ]
  },
  {
   "cell_type": "code",
   "execution_count": null,
   "metadata": {},
   "outputs": [],
   "source": [
    "import cv2\n",
    "import os\n",
    "\n",
    "# get list of all photos in img folder\n",
    "photo_files = os.listdir(\"graph/img\")\n",
    "\n",
    "for file in photo_files:\n",
    "    # open the img\n",
    "    img = cv2.imread(\"graph/img/\" + file)\n",
    "    \n",
    "    try:\n",
    "        # confirm img is taller than it is wide, which we expect\n",
    "        if img.shape[0] > img.shape[1]:\n",
    "            # trim the bottom such that the 1.5 x 1 shape becomes 1 x 1\n",
    "            cropped_img = img[0:int(img.shape[1])]\n",
    "        else:\n",
    "            # file is wider than it is tall. Will likely need to be manually replaced\n",
    "            print(file)\n",
    "            cropped_img = img\n",
    "        \n",
    "        # save new file\n",
    "        cv2.imwrite(\"graph/img_square/\" + file, cropped_img) \n",
    "    except:\n",
    "        print(file)"
   ]
  },
  {
   "cell_type": "markdown",
   "metadata": {},
   "source": [
    "## Compress images"
   ]
  },
  {
   "cell_type": "code",
   "execution_count": 4,
   "metadata": {},
   "outputs": [],
   "source": [
    "from PIL import Image\n",
    "\n",
    "\n",
    "import cv2\n",
    "import os\n",
    "\n",
    "# get list of all photos in img folder\n",
    "photo_files = os.listdir(\"graph/img\")\n",
    "\n",
    "for file in photo_files:    \n",
    "    img = Image.open(\"graph/img/\" + file)\n",
    "    img = img.convert('RGB')\n",
    "    img.save(\"graph/img/\" + file, optimize=True,quality=10)"
   ]
  }
 ],
 "metadata": {
  "kernelspec": {
   "display_name": "Python 3",
   "language": "python",
   "name": "python3"
  },
  "language_info": {
   "codemirror_mode": {
    "name": "ipython",
    "version": 3
   },
   "file_extension": ".py",
   "mimetype": "text/x-python",
   "name": "python",
   "nbconvert_exporter": "python",
   "pygments_lexer": "ipython3",
   "version": "3.7.4"
  }
 },
 "nbformat": 4,
 "nbformat_minor": 2
}
